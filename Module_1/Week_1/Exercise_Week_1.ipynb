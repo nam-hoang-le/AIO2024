{
 "cells": [
  {
   "cell_type": "code",
   "execution_count": 136,
   "metadata": {},
   "outputs": [],
   "source": [
    "def exercise1(tp, fp, fn):\n",
    "    \"\"\"\n",
    "    Confusion Matrix function\n",
    "    Input:\n",
    "    tp: True Positive\n",
    "    fp: False Positive\n",
    "    fn: Fase Negative\n",
    "    Output:\n",
    "    Precision = TP/(TP+FP)\n",
    "    Recall = TP/(TP+FN)\n",
    "    F1-score = 2*(Precision*Recall)/(Precision+Recall)\n",
    "    \"\"\"\n",
    "    try: \n",
    "        tp = float(tp)\n",
    "        fp = float(fp)\n",
    "        fn = float(fn)\n",
    "    except:\n",
    "        print(\"Type must be float!\")\n",
    "        return\n",
    "    if tp <= 0 or fp <= 0 or fn <= 0:\n",
    "        print(\"tp and fp and fn must be greater than zero!\")\n",
    "        return\n",
    "    precision = tp / (tp + fp)\n",
    "    recall = tp / (tp + fn)\n",
    "    f1 = 2 * (precision * recall) / (precision + recall)\n",
    "    return f1"
   ]
  },
  {
   "cell_type": "code",
   "execution_count": 94,
   "metadata": {},
   "outputs": [
    {
     "name": "stdout",
     "output_type": "stream",
     "text": [
      "Type must be int!\n"
     ]
    }
   ],
   "source": [
    "exercise1(tp=\"a\", fp=3, fn=4)"
   ]
  },
  {
   "cell_type": "code",
   "execution_count": 95,
   "metadata": {},
   "outputs": [],
   "source": [
    "def is_number(n):\n",
    "    \"\"\"\n",
    "    Check valid value for input\n",
    "    Input:\n",
    "    n: value\n",
    "    Output:\n",
    "    n: float\n",
    "    Boolean\n",
    "    \"\"\"\n",
    "    try:\n",
    "        float(n)\n",
    "    except ValueError:\n",
    "        return False\n",
    "    return True"
   ]
  },
  {
   "cell_type": "code",
   "execution_count": 96,
   "metadata": {},
   "outputs": [],
   "source": [
    "import math\n",
    "\n",
    "\n",
    "def sigmoid(value):\n",
    "    \"\"\"\n",
    "    Sigmoid function\n",
    "    Input:\n",
    "    value: float\n",
    "    Output:\n",
    "    value = 1/(1+e^-x)\n",
    "    \"\"\"\n",
    "    return 1 / (1 + math.exp(-value))"
   ]
  },
  {
   "cell_type": "code",
   "execution_count": 149,
   "metadata": {},
   "outputs": [
    {
     "name": "stdout",
     "output_type": "stream",
     "text": [
      "0.88\n"
     ]
    }
   ],
   "source": [
    "assert round(sigmoid(3), 2) == 0.95\n",
    "print(round(sigmoid(2), 2))"
   ]
  },
  {
   "cell_type": "code",
   "execution_count": 97,
   "metadata": {},
   "outputs": [],
   "source": [
    "def relu(value):\n",
    "    \"\"\"\n",
    "    ReLU function\n",
    "    Input:\n",
    "    value: float\n",
    "    Output:\n",
    "    0 if x <= 0\n",
    "    x if x > 0\n",
    "    \"\"\"\n",
    "    if value <= 0:\n",
    "        return 0\n",
    "    return value"
   ]
  },
  {
   "cell_type": "code",
   "execution_count": 98,
   "metadata": {},
   "outputs": [],
   "source": [
    "def elu(value, alpha):\n",
    "    \"\"\"\n",
    "    ELU function\n",
    "    Input:\n",
    "    value: float\n",
    "    alpha: float\n",
    "    Output:\n",
    "    alpha*(e**x-1) if x <= 0\n",
    "    x if x > 0\n",
    "    \"\"\"\n",
    "    if value <= 0:\n",
    "        return alpha * (math.exp(value) - 1)\n",
    "    return value"
   ]
  },
  {
   "cell_type": "code",
   "execution_count": 151,
   "metadata": {},
   "outputs": [
    {
     "name": "stdout",
     "output_type": "stream",
     "text": [
      "-0.01\n"
     ]
    }
   ],
   "source": [
    "assert round(elu(1, 0.01)) == 1\n",
    "print(round(elu(-1, 0.01), 2))"
   ]
  },
  {
   "cell_type": "code",
   "execution_count": 99,
   "metadata": {},
   "outputs": [],
   "source": [
    "def exercise2():\n",
    "    \"\"\"\n",
    "    Activation function\n",
    "    Input:\n",
    "    Value: float\n",
    "    Function: sigmoid|relu|elu\n",
    "    Output:\n",
    "    Result: float\n",
    "    \"\"\"\n",
    "    avai_activation = [\"sigmoid\", \"relu\", \"elu\"]\n",
    "    value = input(\"Input x = \")\n",
    "    activation = input(\"Input activation Function(sigmoid|relu|elu): \")\n",
    "    status = is_number(value)\n",
    "    if status is False:\n",
    "        print(\"value must be a number\")\n",
    "        return\n",
    "    value = float(value)\n",
    "    if activation not in avai_activation:\n",
    "        print(f\"{activation} is not supported!\")\n",
    "        return\n",
    "    if activation == \"sigmoid\":\n",
    "        print(f\"{activation}: f({value}) = {sigmoid(value)}\")\n",
    "    if activation == \"relu\":\n",
    "        print(f\"{activation}: f({value}) = {relu(value)}\")\n",
    "    if activation == \"elu\":\n",
    "        alpha = input(\"Enter alpha value: \")\n",
    "        print(f\"{activation}: f({value}) = {elu(value, alpha)}\")"
   ]
  },
  {
   "cell_type": "code",
   "execution_count": 154,
   "metadata": {},
   "outputs": [
    {
     "name": "stdout",
     "output_type": "stream",
     "text": [
      "sigmoid: f(3.0) = 0.9525741268224334\n"
     ]
    }
   ],
   "source": [
    "exercise2()"
   ]
  },
  {
   "cell_type": "code",
   "execution_count": 101,
   "metadata": {},
   "outputs": [],
   "source": [
    "def mae(predict, target):\n",
    "    \"\"\"\n",
    "    MAE function (Mean Absolute Error)\n",
    "    Input:\n",
    "    predict (y): float (1-10)\n",
    "    target (y_hat): float (1-10)\n",
    "    Output:\n",
    "    result: int\n",
    "    (predict - target)\n",
    "    \"\"\"\n",
    "    return abs(predict - target)"
   ]
  },
  {
   "cell_type": "code",
   "execution_count": 155,
   "metadata": {},
   "outputs": [
    {
     "data": {
      "text/plain": [
       "5"
      ]
     },
     "execution_count": 155,
     "metadata": {},
     "output_type": "execute_result"
    }
   ],
   "source": [
    "mae(1, 6)"
   ]
  },
  {
   "cell_type": "code",
   "execution_count": 102,
   "metadata": {},
   "outputs": [],
   "source": [
    "def mse(predict, target):\n",
    "    \"\"\"\n",
    "    MSE function (Mean Square Error)\n",
    "    Input:\n",
    "    predict (y): float (1-10)\n",
    "    target (y_hat): float (1-10)\n",
    "    Output:\n",
    "    result: int\n",
    "    (predict - target) ** 2\n",
    "    \"\"\"\n",
    "    return (predict - target) ** 2"
   ]
  },
  {
   "cell_type": "code",
   "execution_count": 156,
   "metadata": {},
   "outputs": [
    {
     "data": {
      "text/plain": [
       "1"
      ]
     },
     "execution_count": 156,
     "metadata": {},
     "output_type": "execute_result"
    }
   ],
   "source": [
    "mse(2, 1)"
   ]
  },
  {
   "cell_type": "code",
   "execution_count": 103,
   "metadata": {},
   "outputs": [],
   "source": [
    "def rmse(predict, target):\n",
    "    \"\"\"\n",
    "    MSE function (Mean Square Error)\n",
    "    Input:\n",
    "    predict (y): float (1-10)\n",
    "    target (y_hat): float (1-10)\n",
    "    Output:\n",
    "    result: int\n",
    "    sqrt((predict - target)**2)\n",
    "    \"\"\"\n",
    "    return (predict - target) ** 2"
   ]
  },
  {
   "cell_type": "code",
   "execution_count": 104,
   "metadata": {},
   "outputs": [],
   "source": [
    "import random\n",
    "\n",
    "\n",
    "def exercise3():\n",
    "    loss_avai = [\"RMSE\", \"MAE\", \"MSE\"]\n",
    "    loss_values = []\n",
    "    numb_samples = input(\n",
    "        \"Input number of samples (integer number) which are generated: \"\n",
    "    )\n",
    "    loss = input(\"Input loss name: \")\n",
    "    if loss not in loss_avai:\n",
    "        print(f\"{loss} is not supported!\")\n",
    "    try:\n",
    "        numb_samples = int(numb_samples)\n",
    "    except:\n",
    "        print(\"Number of samples must be an integer number!\")\n",
    "\n",
    "    if loss == \"MAE\":\n",
    "        for sample in range(numb_samples):\n",
    "            predict = random.uniform(0, 10)\n",
    "            target = random.uniform(0, 10)\n",
    "            loss_value = mae(predict, target)\n",
    "            print(\n",
    "                f\"loss name: {loss}, sample: {sample+1}, pred: {predict}, target: {target}, loss: {loss_value}\"\n",
    "            )\n",
    "            loss_values.append(loss_value)\n",
    "        print(f\"final {loss}: {sum(loss_values)/numb_samples}\")\n",
    "        return\n",
    "    if loss == \"MSE\":\n",
    "        for sample in range(numb_samples):\n",
    "            predict = random.uniform(0, 10)\n",
    "            target = random.uniform(0, 10)\n",
    "            loss_value = mse(predict, target)\n",
    "            print(\n",
    "                f\"loss name: {loss}, sample: {sample+1}, pred: {predict}, target: {target}, loss: {loss_value}\"\n",
    "            )\n",
    "            loss_values.append(loss_value)\n",
    "        print(f\"final {loss}: {sum(loss_values)/numb_samples}\")\n",
    "    if loss == \"RMSE\":\n",
    "        for sample in range(numb_samples):\n",
    "            predict = random.uniform(0, 10)\n",
    "            target = random.uniform(0, 10)\n",
    "            loss_value = rmse(predict, target)\n",
    "            print(\n",
    "                f\"loss name: {loss}, sample: {sample+1}, pred: {predict}, target: {target}, loss: {loss_value}\"\n",
    "            )\n",
    "            loss_values.append(loss_value)\n",
    "        print(f\"final {loss}: {math.sqrt(sum(loss_values)/numb_samples)}\")"
   ]
  },
  {
   "cell_type": "code",
   "execution_count": 105,
   "metadata": {},
   "outputs": [
    {
     "name": "stdout",
     "output_type": "stream",
     "text": [
      " is not supported!\n"
     ]
    }
   ],
   "source": [
    "exercise3()"
   ]
  },
  {
   "cell_type": "code",
   "execution_count": 106,
   "metadata": {},
   "outputs": [],
   "source": [
    "def factorial(n):\n",
    "    \"\"\"\n",
    "    Factorial function\n",
    "    Input:\n",
    "    n: int\n",
    "    Output:\n",
    "    n!: int\n",
    "    \"\"\"\n",
    "    if n >= 2:\n",
    "        return n * factorial(n - 1)\n",
    "    return 1"
   ]
  },
  {
   "cell_type": "code",
   "execution_count": 107,
   "metadata": {},
   "outputs": [],
   "source": [
    "def approx_sin(x=3.14, n=3):\n",
    "    \"\"\"\n",
    "    Input:\n",
    "    x: radian\n",
    "    n: int\n",
    "    Output:\n",
    "    approx_sin of x = (-1)**n* (x**(2n+1)/(2n+1)!)\n",
    "    \"\"\"\n",
    "    sin = 0\n",
    "    for i in range(n):\n",
    "        sin += (-1) ** i * (x ** (2 * i + 1) / (factorial(2 * i + 1)))\n",
    "    return sin"
   ]
  },
  {
   "cell_type": "code",
   "execution_count": 160,
   "metadata": {},
   "outputs": [
    {
     "data": {
      "text/plain": [
       "0.001592652393160744"
      ]
     },
     "execution_count": 160,
     "metadata": {},
     "output_type": "execute_result"
    }
   ],
   "source": [
    "approx_sin(3.14, 10)"
   ]
  },
  {
   "cell_type": "code",
   "execution_count": 108,
   "metadata": {},
   "outputs": [],
   "source": [
    "def approx_cos(x=3.14, n=3):\n",
    "    \"\"\"\n",
    "    Input:\n",
    "    x: radian\n",
    "    n: int\n",
    "    Output:\n",
    "    approx_cos of x = (-1)**n* (x**(2n)/(2n)!)\n",
    "    \"\"\"\n",
    "    cos = 0\n",
    "    for i in range(n):\n",
    "        cos += (-1) ** i * (x ** (2 * i) / (factorial(2 * i)))\n",
    "    return cos"
   ]
  },
  {
   "cell_type": "code",
   "execution_count": 158,
   "metadata": {},
   "outputs": [
    {
     "data": {
      "text/plain": [
       "-0.9999987352210833"
      ]
     },
     "execution_count": 158,
     "metadata": {},
     "output_type": "execute_result"
    }
   ],
   "source": [
    "approx_cos(3.14, 10)"
   ]
  },
  {
   "cell_type": "code",
   "execution_count": 110,
   "metadata": {},
   "outputs": [],
   "source": [
    "def approx_sinh(x=3.14, n=3):\n",
    "    \"\"\"\n",
    "    Input:\n",
    "    x: radian\n",
    "    n: int\n",
    "    Output:\n",
    "    approx_sinh of x = x**(2n+1)/(2n+1)!\n",
    "    \"\"\"\n",
    "    sinh = 0\n",
    "    for i in range(n):\n",
    "        sinh += x ** (2 * i + 1) / (factorial(2 * i + 1))\n",
    "    return sinh"
   ]
  },
  {
   "cell_type": "code",
   "execution_count": 162,
   "metadata": {},
   "outputs": [
    {
     "data": {
      "text/plain": [
       "11.530292029865986"
      ]
     },
     "execution_count": 162,
     "metadata": {},
     "output_type": "execute_result"
    }
   ],
   "source": [
    "approx_sinh(3.14, 10)"
   ]
  },
  {
   "cell_type": "code",
   "execution_count": 111,
   "metadata": {},
   "outputs": [],
   "source": [
    "def approx_cosh(x=3.14, n=3):\n",
    "    \"\"\"\n",
    "    Input:\n",
    "    x: radian\n",
    "    n: int\n",
    "    Output:\n",
    "    approx_sinh of x = x**(2n)/(2n)!\n",
    "    \"\"\"\n",
    "    cosh = 0\n",
    "    for i in range(n):\n",
    "        cosh += x ** (2 * i) / (factorial(2 * i))\n",
    "    return cosh"
   ]
  },
  {
   "cell_type": "code",
   "execution_count": 164,
   "metadata": {},
   "outputs": [
    {
     "data": {
      "text/plain": [
       "11.573574824666185"
      ]
     },
     "execution_count": 164,
     "metadata": {},
     "output_type": "execute_result"
    }
   ],
   "source": [
    "approx_cosh(3.14, 10)"
   ]
  },
  {
   "cell_type": "code",
   "execution_count": 112,
   "metadata": {},
   "outputs": [],
   "source": [
    "def MD_nRE_single_sample(y, y_hat, n, p):\n",
    "    \"\"\"\n",
    "    MD_nRE (Mean Difference of nth Root Error)\n",
    "    Input:\n",
    "    y: predict value float\n",
    "    y_hat: ground truth float\n",
    "    Output:\n",
    "    MD_nRE: (sqrt of nth(y) - sqrt of nth(y_hat))^p\n",
    "    \"\"\"\n",
    "    return (y ** (1 / n) - y_hat ** (1 / n)) ** p"
   ]
  },
  {
   "cell_type": "code",
   "execution_count": 113,
   "metadata": {},
   "outputs": [
    {
     "data": {
      "text/plain": [
       "0.025031328369998107"
      ]
     },
     "execution_count": 113,
     "metadata": {},
     "output_type": "execute_result"
    }
   ],
   "source": [
    "MD_nRE_single_sample(100, 99.5, 2, 1)"
   ]
  },
  {
   "cell_type": "code",
   "execution_count": 138,
   "metadata": {},
   "outputs": [
    {
     "name": "stdout",
     "output_type": "stream",
     "text": [
      "0.33\n"
     ]
    }
   ],
   "source": [
    "assert round(exercise1(2.0, 3.0, 5.0), 2) == 0.33\n",
    "print(round(exercise1(2.0, 3.0, 5.0), 2))"
   ]
  },
  {
   "cell_type": "code",
   "execution_count": 139,
   "metadata": {},
   "outputs": [],
   "source": [
    "import math \n",
    "def is_number(n): \n",
    "    try:\n",
    "        int(n)\n",
    "        return True\n",
    "    except: \n",
    "        return False"
   ]
  },
  {
   "cell_type": "code",
   "execution_count": 147,
   "metadata": {},
   "outputs": [
    {
     "ename": "AssertionError",
     "evalue": "",
     "output_type": "error",
     "traceback": [
      "\u001b[1;31m---------------------------------------------------------------------------\u001b[0m",
      "\u001b[1;31mAssertionError\u001b[0m                            Traceback (most recent call last)",
      "Cell \u001b[1;32mIn[147], line 1\u001b[0m\n\u001b[1;32m----> 1\u001b[0m \u001b[38;5;28;01massert\u001b[39;00m is_number(\u001b[38;5;241m3\u001b[39m) \u001b[38;5;241m==\u001b[39m \u001b[38;5;28;01mFalse\u001b[39;00m\n\u001b[0;32m      2\u001b[0m \u001b[38;5;28;01massert\u001b[39;00m is_number(\u001b[38;5;124m'\u001b[39m\u001b[38;5;124m-2a\u001b[39m\u001b[38;5;124m'\u001b[39m) \u001b[38;5;241m==\u001b[39m \u001b[38;5;28;01mTrue\u001b[39;00m\n",
      "\u001b[1;31mAssertionError\u001b[0m: "
     ]
    }
   ],
   "source": [
    "# Báo lỗi \n",
    "assert is_number(3) == False\n",
    "assert is_number('-2a') == True"
   ]
  },
  {
   "cell_type": "code",
   "execution_count": 146,
   "metadata": {},
   "outputs": [],
   "source": [
    "assert is_number(3) == True\n",
    "assert is_number('-2a') == False"
   ]
  },
  {
   "cell_type": "code",
   "execution_count": 145,
   "metadata": {},
   "outputs": [],
   "source": [
    "assert is_number(3) == 1.0 # True == 1.0 \n",
    "assert is_number('-2a') == 0.0 # False = 1.0 "
   ]
  },
  {
   "cell_type": "code",
   "execution_count": 143,
   "metadata": {},
   "outputs": [
    {
     "name": "stdout",
     "output_type": "stream",
     "text": [
      "True\n",
      "False\n"
     ]
    }
   ],
   "source": [
    "print(is_number(1))\n",
    "print(is_number('n'))"
   ]
  },
  {
   "cell_type": "code",
   "execution_count": null,
   "metadata": {},
   "outputs": [],
   "source": []
  }
 ],
 "metadata": {
  "kernelspec": {
   "display_name": "Nam",
   "language": "python",
   "name": "python3"
  },
  "language_info": {
   "codemirror_mode": {
    "name": "ipython",
    "version": 3
   },
   "file_extension": ".py",
   "mimetype": "text/x-python",
   "name": "python",
   "nbconvert_exporter": "python",
   "pygments_lexer": "ipython3",
   "version": "3.12.2"
  }
 },
 "nbformat": 4,
 "nbformat_minor": 2
}
